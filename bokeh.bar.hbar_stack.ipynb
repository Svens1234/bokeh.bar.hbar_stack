{
 "cells": [
  {
   "cell_type": "code",
   "execution_count": 36,
   "id": "482852bb",
   "metadata": {},
   "outputs": [],
   "source": [
    "from bokeh.io import output_file, show\n",
    "from bokeh.models import ColumnDataSource\n",
    "from bokeh.plotting import figure\n",
    "from bokeh.palettes import GnBu3, OrRd3"
   ]
  },
  {
   "cell_type": "code",
   "execution_count": 37,
   "id": "692d99ac",
   "metadata": {},
   "outputs": [],
   "source": [
    "output_file(\"stacked_split.html\")"
   ]
  },
  {
   "cell_type": "code",
   "execution_count": 38,
   "id": "2573f69b",
   "metadata": {},
   "outputs": [],
   "source": [
    "fruits = ['Apples', 'Pears', 'Nectarines', 'Plums', 'Grapes', 'Strawberries']\n",
    "years = [\"2015\", \"2016\", \"2017\"]"
   ]
  },
  {
   "cell_type": "code",
   "execution_count": 39,
   "id": "4d25334e",
   "metadata": {},
   "outputs": [],
   "source": [
    "exports = {'fruits' : fruits,\n",
    "           '2015'   : [2, 1, 4, 3, 2, 4],\n",
    "           '2016'   : [5, 3, 4, 2, 4, 6],\n",
    "           '2017'   : [3, 2, 4, 4, 5, 3]}\n",
    "imports = {'fruits' : fruits,\n",
    "           '2015'   : [-1, 0, -1, -3, -2, -1],\n",
    "           '2016'   : [-2, -1, -3, -1, -2, -2],\n",
    "           '2017'   : [-1, -2, -1, 0, -2, -2]}"
   ]
  },
  {
   "cell_type": "code",
   "execution_count": 40,
   "id": "131ebd39",
   "metadata": {},
   "outputs": [],
   "source": [
    "p = figure(y_range=fruits, height=250, x_range=(-16, 16), title=\"Fruit import/export, by year\",\n",
    "           toolbar_location=None)\n",
    "\n"
   ]
  },
  {
   "cell_type": "code",
   "execution_count": 41,
   "id": "768c5eb8",
   "metadata": {},
   "outputs": [
    {
     "data": {
      "text/plain": [
       "[GlyphRenderer(id='5525', ...),\n",
       " GlyphRenderer(id='5544', ...),\n",
       " GlyphRenderer(id='5563', ...)]"
      ]
     },
     "execution_count": 41,
     "metadata": {},
     "output_type": "execute_result"
    }
   ],
   "source": [
    "p.hbar_stack(years, y='fruits', height=0.5, color=GnBu3, source=ColumnDataSource(exports),\n",
    "             legend_label=[\"%s exports\" % x for x in years])\n",
    "\n",
    "p.hbar_stack(years, y='fruits', height=0.5, color=OrRd3, source=ColumnDataSource(imports),\n",
    "             legend_label=[\"%s imports\" % x for x in years])"
   ]
  },
  {
   "cell_type": "code",
   "execution_count": 42,
   "id": "dee2dd1a",
   "metadata": {},
   "outputs": [],
   "source": [
    "p.y_range.range_padding = 0.1\n",
    "p.ygrid.grid_line_color = None\n",
    "p.legend.location = \"top_left\"\n",
    "p.axis.minor_tick_line_color = None\n",
    "p.outline_line_color = None"
   ]
  },
  {
   "cell_type": "code",
   "execution_count": 43,
   "id": "c95868b9",
   "metadata": {},
   "outputs": [],
   "source": [
    "show(p)"
   ]
  },
  {
   "cell_type": "code",
   "execution_count": null,
   "id": "5374fbf9",
   "metadata": {},
   "outputs": [],
   "source": []
  }
 ],
 "metadata": {
  "kernelspec": {
   "display_name": "Python 3 (ipykernel)",
   "language": "python",
   "name": "python3"
  },
  "language_info": {
   "codemirror_mode": {
    "name": "ipython",
    "version": 3
   },
   "file_extension": ".py",
   "mimetype": "text/x-python",
   "name": "python",
   "nbconvert_exporter": "python",
   "pygments_lexer": "ipython3",
   "version": "3.8.7"
  }
 },
 "nbformat": 4,
 "nbformat_minor": 5
}
